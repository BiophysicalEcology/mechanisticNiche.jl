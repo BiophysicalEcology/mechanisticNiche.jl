{
 "cells": [
  {
   "cell_type": "markdown",
   "metadata": {},
   "source": [
    "# Biophysical models in julia"
   ]
  },
  {
   "cell_type": "markdown",
   "metadata": {},
   "source": [
    "Lets try to do something cool. This is the start of a new era! :)"
   ]
  },
  {
   "cell_type": "code",
   "execution_count": 4,
   "metadata": {},
   "outputs": [
    {
     "data": {
      "text/plain": [
       "resp (generic function with 4 methods)"
      ]
     },
     "execution_count": 4,
     "metadata": {},
     "output_type": "execute_result"
    }
   ],
   "source": [
    "\n",
    "using Parameters, Roots\n",
    "\n",
    "include(\"aux_functions.jl\")\n",
    "include(\"organism.jl\")\n",
    "include(\"environment.jl\")\n",
    "include(\"geometry.jl\")\n",
    "include(\"qmet.jl\")\n",
    "include(\"qrin.jl\")\n",
    "include(\"qrout.jl\")\n",
    "include(\"qsolar.jl\")\n",
    "include(\"qcond.jl\")\n",
    "include(\"convection.jl\")\n",
    "include(\"skinevap.jl\")\n",
    "include(\"resp.jl\")"
   ]
  },
  {
   "cell_type": "code",
   "execution_count": 5,
   "metadata": {},
   "outputs": [
    {
     "data": {
      "text/plain": [
       "stateVars\n",
       "  Tc: Float64 25.0\n",
       "  Tskin: Float64 25.1\n",
       "  Tlung: Float64 25.0\n"
      ]
     },
     "execution_count": 5,
     "metadata": {},
     "output_type": "execute_result"
    }
   ],
   "source": [
    "anim = organismParams()\n",
    "env = envParams()\n",
    "# vars = envVariables(QSOLR = [400], Tsky=[10], Tsub = [30])\n",
    "vars = envVariables(Ta=[20])\n",
    "state = stateVars()\n"
   ]
  },
  {
   "cell_type": "markdown",
   "metadata": {},
   "source": [
    "#### find the temperature that satisfies the balance equation"
   ]
  },
  {
   "cell_type": "code",
   "execution_count": 6,
   "metadata": {},
   "outputs": [
    {
     "data": {
      "text/plain": [
       "34.54580944580296"
      ]
     },
     "execution_count": 6,
     "metadata": {},
     "output_type": "execute_result"
    }
   ],
   "source": [
    "Qrin = qrin(anim, env, vars)\n",
    "Qsolar = qsolar(anim, env, vars, 800).Qsolar\n",
    "\n",
    "function energy_bal(Tx,\n",
    "    o::fixedParams = anim,\n",
    "    e::fixedEnvParams = env,\n",
    "    v::envVars = vars,\n",
    "    s::stateVariables = state,\n",
    "    Qrin = Qrin,\n",
    "    Qsolar = Qsolar)\n",
    "    \n",
    "    Qmet = qmet(Tx, o)\n",
    "\n",
    "    # Qout\n",
    "    Qrout = qrout(Tx, o)\n",
    "    Qcond = qcond(Tx, o, v)\n",
    "    Qconv = convection(Tx, o, e, v).QCONV\n",
    "    Qsevap = skinevap(Tx, o, e, v).QSEVAP\n",
    "    Qresp = resp(Tx, o, e, v, Qmet).Qresp\n",
    "\n",
    "    (Qsolar + Qrin + Qmet) - (Qrout + Qcond + Qconv + Qsevap + Qresp)\n",
    "    \n",
    "end\n",
    "\n",
    "\n",
    "find_zero(energy_bal, (-50, 100), Bisection())"
   ]
  },
  {
   "cell_type": "code",
   "execution_count": null,
   "metadata": {},
   "outputs": [],
   "source": []
  }
 ],
 "metadata": {
  "kernelspec": {
   "display_name": "Julia 1.8.2",
   "language": "julia",
   "name": "julia-1.8"
  },
  "language_info": {
   "file_extension": ".jl",
   "mimetype": "application/julia",
   "name": "julia",
   "version": "1.8.2"
  },
  "orig_nbformat": 4
 },
 "nbformat": 4,
 "nbformat_minor": 2
}
